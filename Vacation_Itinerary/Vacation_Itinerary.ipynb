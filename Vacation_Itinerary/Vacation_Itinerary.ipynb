{
 "cells": [
  {
   "cell_type": "markdown",
   "metadata": {},
   "source": [
    "## Deliverable 3. Create a Travel Itinerary Map."
   ]
  },
  {
   "cell_type": "code",
   "execution_count": 26,
   "metadata": {},
   "outputs": [],
   "source": [
    "# Dependencies and Setup\n",
    "import pandas as pd\n",
    "import requests\n",
    "import gmaps\n",
    "\n",
    "# Import API key\n",
    "from config import g_key\n",
    "\n",
    "# Configure gmaps\n",
    "gmaps.configure(api_key=g_key)"
   ]
  },
  {
   "cell_type": "code",
   "execution_count": 2,
   "metadata": {},
   "outputs": [
    {
     "data": {
      "text/html": [
       "<div>\n",
       "<style scoped>\n",
       "    .dataframe tbody tr th:only-of-type {\n",
       "        vertical-align: middle;\n",
       "    }\n",
       "\n",
       "    .dataframe tbody tr th {\n",
       "        vertical-align: top;\n",
       "    }\n",
       "\n",
       "    .dataframe thead th {\n",
       "        text-align: right;\n",
       "    }\n",
       "</style>\n",
       "<table border=\"1\" class=\"dataframe\">\n",
       "  <thead>\n",
       "    <tr style=\"text-align: right;\">\n",
       "      <th></th>\n",
       "      <th>City_ID</th>\n",
       "      <th>City</th>\n",
       "      <th>Country</th>\n",
       "      <th>Max Temp</th>\n",
       "      <th>Lat</th>\n",
       "      <th>Lng</th>\n",
       "      <th>Description</th>\n",
       "      <th>Hotel Name</th>\n",
       "    </tr>\n",
       "  </thead>\n",
       "  <tbody>\n",
       "    <tr>\n",
       "      <th>0</th>\n",
       "      <td>2</td>\n",
       "      <td>Sao Filipe</td>\n",
       "      <td>CV</td>\n",
       "      <td>76.89</td>\n",
       "      <td>14.8961</td>\n",
       "      <td>-24.4956</td>\n",
       "      <td>few clouds</td>\n",
       "      <td>Hotel Xaguate</td>\n",
       "    </tr>\n",
       "    <tr>\n",
       "      <th>1</th>\n",
       "      <td>3</td>\n",
       "      <td>Impfondo</td>\n",
       "      <td>CG</td>\n",
       "      <td>69.73</td>\n",
       "      <td>1.6381</td>\n",
       "      <td>18.0667</td>\n",
       "      <td>moderate rain</td>\n",
       "      <td>Auberge La Place de Jules</td>\n",
       "    </tr>\n",
       "    <tr>\n",
       "      <th>2</th>\n",
       "      <td>6</td>\n",
       "      <td>Atuona</td>\n",
       "      <td>PF</td>\n",
       "      <td>77.16</td>\n",
       "      <td>-9.8000</td>\n",
       "      <td>-139.0333</td>\n",
       "      <td>clear sky</td>\n",
       "      <td>Hôtel Hiva Oa Hanakee Lodge</td>\n",
       "    </tr>\n",
       "    <tr>\n",
       "      <th>3</th>\n",
       "      <td>8</td>\n",
       "      <td>Rikitea</td>\n",
       "      <td>PF</td>\n",
       "      <td>72.75</td>\n",
       "      <td>-23.1203</td>\n",
       "      <td>-134.9692</td>\n",
       "      <td>scattered clouds</td>\n",
       "      <td>People ThankYou</td>\n",
       "    </tr>\n",
       "    <tr>\n",
       "      <th>4</th>\n",
       "      <td>11</td>\n",
       "      <td>Tutoia</td>\n",
       "      <td>BR</td>\n",
       "      <td>78.55</td>\n",
       "      <td>-2.7619</td>\n",
       "      <td>-42.2744</td>\n",
       "      <td>scattered clouds</td>\n",
       "      <td>Pousada Guará's</td>\n",
       "    </tr>\n",
       "  </tbody>\n",
       "</table>\n",
       "</div>"
      ],
      "text/plain": [
       "   City_ID        City Country  Max Temp      Lat       Lng       Description  \\\n",
       "0        2  Sao Filipe      CV     76.89  14.8961  -24.4956        few clouds   \n",
       "1        3    Impfondo      CG     69.73   1.6381   18.0667     moderate rain   \n",
       "2        6      Atuona      PF     77.16  -9.8000 -139.0333         clear sky   \n",
       "3        8     Rikitea      PF     72.75 -23.1203 -134.9692  scattered clouds   \n",
       "4       11      Tutoia      BR     78.55  -2.7619  -42.2744  scattered clouds   \n",
       "\n",
       "                    Hotel Name  \n",
       "0                Hotel Xaguate  \n",
       "1    Auberge La Place de Jules  \n",
       "2  Hôtel Hiva Oa Hanakee Lodge  \n",
       "3              People ThankYou  \n",
       "4              Pousada Guará's  "
      ]
     },
     "execution_count": 2,
     "metadata": {},
     "output_type": "execute_result"
    }
   ],
   "source": [
    "# 1. Read the WeatherPy_vacation.csv into a DataFrame.\n",
    "vacation_df = pd.read_csv(\"../Vacation_Search/WeatherPy_vacation.csv\")\n",
    "vacation_df.head()"
   ]
  },
  {
   "cell_type": "code",
   "execution_count": 3,
   "metadata": {},
   "outputs": [],
   "source": [
    "# 2. Using the template add the city name, the country code, the weather description and maximum temperature for the city.\n",
    "info_box_template = \"\"\"\n",
    "<dl>\n",
    "<dt>City, Country</dt><dd>{City}, {Country}</dd>\n",
    "<dt>Weather</dt><dd>{Description}</dd>\n",
    "<dt>Max Temp</dt><dd>{Max Temp}°F</dd> \n",
    "</dl>\n",
    "\"\"\"\n",
    "\n",
    "# 3a. Get the data from each row and add it to the formatting template and store the data in a list.\n",
    "hotel_info = [info_box_template.format(**row) for index, row in vacation_df.iterrows()]\n",
    "\n",
    "# 3b. Get the latitude and longitude from each row and store in a new DataFrame.\n",
    "locations = vacation_df[[\"Lat\", \"Lng\"]]"
   ]
  },
  {
   "cell_type": "code",
   "execution_count": 4,
   "metadata": {},
   "outputs": [
    {
     "data": {
      "application/vnd.jupyter.widget-view+json": {
       "model_id": "6ed83a37325a4ebe911412a740a735d7",
       "version_major": 2,
       "version_minor": 0
      },
      "text/plain": [
       "Figure(layout=FigureLayout(height='420px'))"
      ]
     },
     "metadata": {},
     "output_type": "display_data"
    }
   ],
   "source": [
    "fig = gmaps.figure(center=(30.0, 31.0), zoom_level=1.5)\n",
    "\n",
    "# 4a. Add a marker layer for each city to the map.\n",
    "marker_layer = gmaps.marker_layer(locations, info_box_content=hotel_info)\n",
    "\n",
    "fig.add_layer(marker_layer)\n",
    "\n",
    "# 4b. Display the figure\n",
    "fig\n"
   ]
  },
  {
   "cell_type": "code",
   "execution_count": 5,
   "metadata": {},
   "outputs": [
    {
     "data": {
      "text/html": [
       "<div>\n",
       "<style scoped>\n",
       "    .dataframe tbody tr th:only-of-type {\n",
       "        vertical-align: middle;\n",
       "    }\n",
       "\n",
       "    .dataframe tbody tr th {\n",
       "        vertical-align: top;\n",
       "    }\n",
       "\n",
       "    .dataframe thead th {\n",
       "        text-align: right;\n",
       "    }\n",
       "</style>\n",
       "<table border=\"1\" class=\"dataframe\">\n",
       "  <thead>\n",
       "    <tr style=\"text-align: right;\">\n",
       "      <th></th>\n",
       "      <th>City_ID</th>\n",
       "      <th>City</th>\n",
       "      <th>Country</th>\n",
       "      <th>Max Temp</th>\n",
       "      <th>Lat</th>\n",
       "      <th>Lng</th>\n",
       "      <th>Description</th>\n",
       "      <th>Hotel Name</th>\n",
       "    </tr>\n",
       "  </thead>\n",
       "  <tbody>\n",
       "    <tr>\n",
       "      <th>187</th>\n",
       "      <td>648</td>\n",
       "      <td>Bheramara</td>\n",
       "      <td>BD</td>\n",
       "      <td>76.42</td>\n",
       "      <td>24.0232</td>\n",
       "      <td>88.9925</td>\n",
       "      <td>overcast clouds</td>\n",
       "      <td>Govt Guest House (Dac Banglo)</td>\n",
       "    </tr>\n",
       "  </tbody>\n",
       "</table>\n",
       "</div>"
      ],
      "text/plain": [
       "     City_ID       City Country  Max Temp      Lat      Lng      Description  \\\n",
       "187      648  Bheramara      BD     76.42  24.0232  88.9925  overcast clouds   \n",
       "\n",
       "                        Hotel Name  \n",
       "187  Govt Guest House (Dac Banglo)  "
      ]
     },
     "execution_count": 5,
     "metadata": {},
     "output_type": "execute_result"
    }
   ],
   "source": [
    "# From the map above pick 4 cities and create a vacation itinerary route to travel between the four cities. \n",
    "# 5. Create DataFrames for each city by filtering the 'vacation_df' using the loc method. \n",
    "# Hint: The starting and ending city should be the same city.\n",
    "\n",
    "vacation_start = vacation_df.loc[(vacation_df[\"City\"] == \"Bheramara\") & (vacation_df[\"Country\"] == \"BD\")] \n",
    "vacation_end = vacation_df.loc[(vacation_df[\"City\"] == \"Bheramara\") & (vacation_df[\"Country\"] == \"BD\")] \n",
    "vacation_stop1 = vacation_df.loc[(vacation_df[\"City\"] == \"Gaurnadi\") & (vacation_df[\"Country\"] == \"BD\")] \n",
    "vacation_stop2 = vacation_df.loc[(vacation_df[\"City\"] == \"Sakhipur\") & (vacation_df[\"Country\"] == \"BD\")] \n",
    "vacation_stop3 = vacation_df.loc[(vacation_df[\"City\"] == \"Rajshahi\") & (vacation_df[\"Country\"] == \"BD\")] \n",
    "\n",
    "vacation_start"
   ]
  },
  {
   "cell_type": "code",
   "execution_count": 17,
   "metadata": {},
   "outputs": [
    {
     "data": {
      "text/plain": [
       "array([[24.3667, 88.6   ]])"
      ]
     },
     "execution_count": 17,
     "metadata": {},
     "output_type": "execute_result"
    }
   ],
   "source": [
    "import numpy as np\n",
    "\n",
    "# 6. Get the latitude-longitude pairs as tuples from each city DataFrame using the to_numpy function and list indexing.\n",
    "start = vacation_start[[\"Lat\",\"Lng\"]].to_numpy()\n",
    "end = vacation_end[[\"Lat\",\"Lng\"]].to_numpy()\n",
    "stop1 = vacation_stop1[[\"Lat\",\"Lng\"]].to_numpy()\n",
    "stop2 = vacation_stop2[[\"Lat\",\"Lng\"]].to_numpy()\n",
    "stop3 = vacation_stop3[[\"Lat\",\"Lng\"]].to_numpy()\n",
    "\n",
    "stop3"
   ]
  },
  {
   "cell_type": "code",
   "execution_count": 27,
   "metadata": {
    "scrolled": true
   },
   "outputs": [
    {
     "name": "stdout",
     "output_type": "stream",
     "text": [
      "{\n",
      "   \"error_message\" : \"The provided API key is invalid. \",\n",
      "   \"routes\" : [],\n",
      "   \"status\" : \"REQUEST_DENIED\"\n",
      "}\n",
      "\n"
     ]
    }
   ],
   "source": [
    "# 7. Create a direction layer map using the start and end latitude-longitude pairs,\n",
    "# and stop1, stop2, and stop3 as the waypoints. The travel_mode should be \"DRIVING\", \"BICYCLING\", or \"WALKING\".\n",
    "\n",
    "\n",
    "url= \"https://maps.googleapis.com/maps/api/directions/json?origin=Bheramara%2C%20BD&destination=Bheramara%2C%20BD&waypoints=Gaurnadi%2C%20BD%7CSakhipur%2C%20BD%7CRajshahi%2C%20BD&key=g_key\"\n",
    "    \n",
    "payload={}\n",
    "headers={}\n",
    "\n",
    "response = requests.request(\"GET\", url, headers=headers, data=payload)\n",
    "\n",
    "print(response.text)\n",
    "    \n"
   ]
  },
  {
   "cell_type": "code",
   "execution_count": 30,
   "metadata": {},
   "outputs": [
    {
     "data": {
      "text/html": [
       "<div>\n",
       "<style scoped>\n",
       "    .dataframe tbody tr th:only-of-type {\n",
       "        vertical-align: middle;\n",
       "    }\n",
       "\n",
       "    .dataframe tbody tr th {\n",
       "        vertical-align: top;\n",
       "    }\n",
       "\n",
       "    .dataframe thead th {\n",
       "        text-align: right;\n",
       "    }\n",
       "</style>\n",
       "<table border=\"1\" class=\"dataframe\">\n",
       "  <thead>\n",
       "    <tr style=\"text-align: right;\">\n",
       "      <th></th>\n",
       "      <th>City_ID</th>\n",
       "      <th>City</th>\n",
       "      <th>Country</th>\n",
       "      <th>Max Temp</th>\n",
       "      <th>Lat</th>\n",
       "      <th>Lng</th>\n",
       "      <th>Description</th>\n",
       "      <th>Hotel Name</th>\n",
       "    </tr>\n",
       "  </thead>\n",
       "  <tbody>\n",
       "    <tr>\n",
       "      <th>0</th>\n",
       "      <td>648</td>\n",
       "      <td>Bheramara</td>\n",
       "      <td>BD</td>\n",
       "      <td>76.42</td>\n",
       "      <td>24.0232</td>\n",
       "      <td>88.9925</td>\n",
       "      <td>overcast clouds</td>\n",
       "      <td>Govt Guest House (Dac Banglo)</td>\n",
       "    </tr>\n",
       "    <tr>\n",
       "      <th>1</th>\n",
       "      <td>636</td>\n",
       "      <td>Gaurnadi</td>\n",
       "      <td>BD</td>\n",
       "      <td>76.14</td>\n",
       "      <td>22.9667</td>\n",
       "      <td>90.2333</td>\n",
       "      <td>overcast clouds</td>\n",
       "      <td>মোল্লা বারি</td>\n",
       "    </tr>\n",
       "    <tr>\n",
       "      <th>2</th>\n",
       "      <td>475</td>\n",
       "      <td>Sakhipur</td>\n",
       "      <td>BD</td>\n",
       "      <td>75.78</td>\n",
       "      <td>24.3000</td>\n",
       "      <td>90.1833</td>\n",
       "      <td>light rain</td>\n",
       "      <td>জুনিয়র এফ.সি-ক্লাব-২</td>\n",
       "    </tr>\n",
       "    <tr>\n",
       "      <th>3</th>\n",
       "      <td>296</td>\n",
       "      <td>Rajshahi</td>\n",
       "      <td>BD</td>\n",
       "      <td>76.42</td>\n",
       "      <td>24.3667</td>\n",
       "      <td>88.6000</td>\n",
       "      <td>overcast clouds</td>\n",
       "      <td>Anjum Hotel International</td>\n",
       "    </tr>\n",
       "  </tbody>\n",
       "</table>\n",
       "</div>"
      ],
      "text/plain": [
       "   City_ID       City Country  Max Temp      Lat      Lng      Description  \\\n",
       "0      648  Bheramara      BD     76.42  24.0232  88.9925  overcast clouds   \n",
       "1      636   Gaurnadi      BD     76.14  22.9667  90.2333  overcast clouds   \n",
       "2      475   Sakhipur      BD     75.78  24.3000  90.1833       light rain   \n",
       "3      296   Rajshahi      BD     76.42  24.3667  88.6000  overcast clouds   \n",
       "\n",
       "                      Hotel Name  \n",
       "0  Govt Guest House (Dac Banglo)  \n",
       "1                    মোল্লা বারি  \n",
       "2           জুনিয়র এফ.সি-ক্লাব-২  \n",
       "3      Anjum Hotel International  "
      ]
     },
     "execution_count": 30,
     "metadata": {},
     "output_type": "execute_result"
    }
   ],
   "source": [
    "# 8. To create a marker layer map between the four cities.\n",
    "#  Combine the four city DataFrames into one DataFrame using the concat() function.\n",
    "itinerary_df = pd.concat([vacation_start, vacation_stop1, vacation_stop2, vacation_stop3], ignore_index=True)\n",
    "itinerary_df"
   ]
  },
  {
   "cell_type": "code",
   "execution_count": 31,
   "metadata": {},
   "outputs": [],
   "source": [
    "# 9 Using the template add city name, the country code, the weather description and maximum temperature for the city. \n",
    "info_box_template = \"\"\"\n",
    "<dl>\n",
    "<dt>City, Country</dt><dd>{City}, {Country}</dd>\n",
    "<dt>Weather</dt><dd>{Description}</dd>\n",
    "<dt>Max Temp</dt><dd>{Max Temp}°F</dd> \n",
    "</dl>\n",
    "\"\"\"\n",
    "\n",
    "# 10a Get the data from each row and add it to the formatting template and store the data in a list.\n",
    "city_info = [info_box_template.format(**row) for index, row in itinerary_df.iterrows()]\n",
    "\n",
    "# 10b. Get the latitude and longitude from each row and store in a new DataFrame.\n",
    "locations = itinerary_df[[\"Lat\", \"Lng\"]]"
   ]
  },
  {
   "cell_type": "code",
   "execution_count": null,
   "metadata": {},
   "outputs": [],
   "source": [
    "fig2 = gmaps.figure(center=(30.0, 31.0), zoom_level=1.5)\n",
    "\n",
    "# 11a. Add a marker layer for each city to the map.\n",
    "marker_layer = gmaps.marker_layer(locations, info_box_content=city_info)\n",
    "\n",
    "fig2.add_layer(marker_layer)\n",
    "\n",
    "# 11b. Display the figure\n",
    "fig2"
   ]
  },
  {
   "cell_type": "code",
   "execution_count": null,
   "metadata": {},
   "outputs": [],
   "source": []
  }
 ],
 "metadata": {
  "kernelspec": {
   "display_name": "Pythondata",
   "language": "python",
   "name": "pythondata"
  },
  "language_info": {
   "codemirror_mode": {
    "name": "ipython",
    "version": 3
   },
   "file_extension": ".py",
   "mimetype": "text/x-python",
   "name": "python",
   "nbconvert_exporter": "python",
   "pygments_lexer": "ipython3",
   "version": "3.7.11"
  },
  "latex_envs": {
   "LaTeX_envs_menu_present": true,
   "autoclose": false,
   "autocomplete": true,
   "bibliofile": "biblio.bib",
   "cite_by": "apalike",
   "current_citInitial": 1,
   "eqLabelWithNumbers": true,
   "eqNumInitial": 1,
   "hotkeys": {
    "equation": "Ctrl-E",
    "itemize": "Ctrl-I"
   },
   "labels_anchors": false,
   "latex_user_defs": false,
   "report_style_numbering": false,
   "user_envs_cfg": false
  }
 },
 "nbformat": 4,
 "nbformat_minor": 2
}
